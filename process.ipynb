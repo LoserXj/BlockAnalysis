{
 "cells": [
  {
   "cell_type": "markdown",
   "source": [
    "# 数据集简单分析\n",
    "\n",
    "## 说明\n",
    "\n",
    "本次实验对以太坊数据集进行了简单的分析，包括（1）节点数目，（2）正样本数目，（3）负样本数目，（4）时间跨度，（5）边的数目这五个方面。其实对于边和节点个数计算采用set集合去重计算。对于边的计算，对（时间戳+起始地址+目标地址+交易金额）进行sha256哈希运算，因为sha256具有不可碰撞性，因而对于不同的边必然具有不同的hash值，因此采用该方法计算是可行的。\n",
    "\n",
    "\n",
    "- 数据集选择： http://xblock.pro/#/dataset/9\n",
    "\n",
    "- 节点个数： 1329729\n",
    "\n",
    "- 正样本数：  1660\n",
    "\n",
    "- 负样本数： 1328069\n",
    "\n",
    "- 边的个数： 4583507\n",
    "\n",
    "- 时间跨度： 2015-08-07 11:52:51 —— 2019-10-17 04:23:19\n",
    "\n",
    "- 节点属性：\n",
    "  - 1.TxHash :  交易哈希值\n",
    "\n",
    "  -\t2.BlockHeight :  交易所在区块高度\n",
    "\n",
    "  - 3.TimeStamp :  交易时间戳\n",
    "\n",
    "  - 4.From :  交易发起节点地址\n",
    "\n",
    "  - 5.To : \t交易接收节点地址\n",
    "\n",
    "  - 6.Value : 交易金额\n",
    "\n",
    "\n",
    "\n",
    "\n",
    "\n",
    "\n",
    "\n"
   ],
   "metadata": {
    "collapsed": false,
    "pycharm": {
     "name": "#%% md\n"
    }
   }
  },
  {
   "cell_type": "markdown",
   "source": [
    "## 1.1 计算有多少个钓鱼节点"
   ],
   "metadata": {
    "collapsed": false,
    "pycharm": {
     "name": "#%% md\n"
    }
   }
  },
  {
   "cell_type": "code",
   "execution_count": 15,
   "outputs": [
    {
     "name": "stdout",
     "output_type": "stream",
     "text": [
      "钓鱼节点数目： 1660\n"
     ]
    }
   ],
   "source": [
    "import os\n",
    "import pandas as pd\n",
    "\n",
    "dirPath=\"./钓鱼数据集/钓鱼一阶节点\";\n",
    "dir=os.listdir(dirPath)\n",
    "phishingNode=0\n",
    "for file in dir:\n",
    "    phishingNode+=1\n",
    "print(\"钓鱼节点数目：\",phishingNode)\n"
   ],
   "metadata": {
    "collapsed": false,
    "pycharm": {
     "name": "#%%\n"
    }
   }
  },
  {
   "cell_type": "markdown",
   "source": [
    "## 1.2 计算节点个数和边的个数，通过放入到set集合去重"
   ],
   "metadata": {
    "collapsed": false,
    "pycharm": {
     "name": "#%% md\n"
    }
   }
  },
  {
   "cell_type": "code",
   "execution_count": 47,
   "outputs": [
    {
     "name": "stdout",
     "output_type": "stream",
     "text": [
      "全部节点个数 1329729\n",
      "边的个数： 0\n",
      "最小时间戳:  1438919571\n",
      "最大时间戳:  1571257399\n",
      "正样本： 0\n",
      "负样本： 1329729\n"
     ]
    }
   ],
   "source": [
    "import hashlib\n",
    "\n",
    "\n",
    "dir1=\"./钓鱼数据集\"\n",
    "directory1=os.listdir(dir1)\n",
    "nodeSet=set()\n",
    "edgeSet=set()\n",
    "minTime=1571257399\n",
    "maxTime=0\n",
    "for dir2 in directory1:\n",
    "  if dir2=='钓鱼一阶节点' or dir2=='非钓鱼一阶节点':\n",
    "      directory2=os.listdir(os.path.join(dir1,dir2))\n",
    "      for file in directory2:\n",
    "          csvData=pd.read_csv(os.path.join(dir1,dir2,file))\n",
    "          for row in csvData.values:\n",
    "              s1=str(row[3])+str(row[4])+str(row[5])+str(row[6])\n",
    "              data_sha=hashlib.sha256(s1.encode('utf-8')).hexdigest()\n",
    "              edgeSet.add(data_sha)\n",
    "              nodeSet.add(row[4])\n",
    "              nodeSet.add(row[5])\n",
    "              if minTime>row[3]:\n",
    "                  minTime=row[3]\n",
    "              if maxTime<row[3]:\n",
    "                  maxTime=row[3]\n",
    "  else:\n",
    "      directory2=os.listdir(os.path.join(dir1,dir2))\n",
    "      for dir3 in directory2:\n",
    "          if os.path.isdir(os.path.join(dir1,dir2,dir3)):\n",
    "              directory3=os.listdir(os.path.join(os.path.join(dir1,dir2,dir3)))\n",
    "              for file in directory3:\n",
    "                  csvData=pd.read_csv(os.path.join(dir1,dir2,dir3,file))\n",
    "                  for row in csvData.values:\n",
    "                      s1=str(row[3])+str(row[4])+str(row[5])+str(row[6])\n",
    "                      data_sha=hashlib.sha256(s1.encode('utf-8')).hexdigest()\n",
    "                      edgeSet.add(data_sha)\n",
    "                      nodeSet.add(row[4])\n",
    "                      nodeSet.add(row[5])\n",
    "                      if minTime>row[3]:\n",
    "                        minTime=row[3]\n",
    "                      if maxTime<row[3]:\n",
    "                        maxTime=row[3]\n",
    "\n",
    "print(\"全部节点个数\",len(nodeSet))\n",
    "print(\"边的个数：\",len(edgeSet))\n",
    "print(\"最小时间戳: \",minTime)\n",
    "print(\"最大时间戳: \",maxTime)\n",
    "print(\"正样本：\",phishingNode)\n",
    "print(\"负样本：\",len(nodeSet)-phishingNode)\n"
   ],
   "metadata": {
    "collapsed": false,
    "pycharm": {
     "name": "#%%\n"
    }
   }
  },
  {
   "cell_type": "markdown",
   "source": [],
   "metadata": {
    "collapsed": false,
    "pycharm": {
     "name": "#%% md\n"
    }
   }
  }
 ],
 "metadata": {
  "kernelspec": {
   "display_name": "Python 3",
   "language": "python",
   "name": "python3"
  },
  "language_info": {
   "codemirror_mode": {
    "name": "ipython",
    "version": 2
   },
   "file_extension": ".py",
   "mimetype": "text/x-python",
   "name": "python",
   "nbconvert_exporter": "python",
   "pygments_lexer": "ipython2",
   "version": "2.7.6"
  }
 },
 "nbformat": 4,
 "nbformat_minor": 0
}